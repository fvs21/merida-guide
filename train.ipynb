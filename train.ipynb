{
  "cells": [
    {
      "cell_type": "code",
      "execution_count": null,
      "metadata": {
        "collapsed": true,
        "id": "cYVHldw-71uD"
      },
      "outputs": [],
      "source": [
        "!pip install -q torch transformers peft accelerate trl bitsandbytes datasets huggingface-hub"
      ]
    },
    {
      "cell_type": "code",
      "execution_count": null,
      "metadata": {
        "id": "IbjqNu5lCeCj"
      },
      "outputs": [],
      "source": [
        "from transformers import AutoTokenizer, AutoModelForCausalLM, BitsAndBytesConfig\n",
        "from peft import LoraConfig, get_peft_model, PeftModel\n",
        "from trl import SFTTrainer, SFTConfig\n",
        "from datasets import load_dataset\n",
        "import random\n",
        "import numpy as np\n",
        "import torch\n",
        "import os"
      ]
    },
    {
      "cell_type": "code",
      "execution_count": null,
      "metadata": {},
      "outputs": [],
      "source": [
        "from huggingface_hub import login\n",
        "\n",
        "login(os.getenv(\"HUGGING_FACE_TOKEN\"))"
      ]
    },
    {
      "cell_type": "code",
      "execution_count": null,
      "metadata": {},
      "outputs": [],
      "source": [
        "SEED = 42\n",
        "\n",
        "def seed_everything(seed: int):\n",
        "  random.seed(seed)\n",
        "  np.random.seed(seed)\n",
        "  torch.manual_seed(seed)\n",
        "\n",
        "seed_everything(SEED)"
      ]
    },
    {
      "cell_type": "code",
      "execution_count": null,
      "metadata": {
        "id": "aXPLBR14DQz-"
      },
      "outputs": [],
      "source": [
        "PAD_TOKEN = \"<|pad|>\"\n",
        "MODEL_NAME = \"meta-llama/Llama-3.2-3B-Instruct\"\n",
        "NEW_MODEL = os.getenv(\"NEW_MODEL\", None)\n",
        "NEW_MODEL_REPO = os.getenv(\"NEW_MODEL_REPO\", None)\n",
        "\n",
        "if not NEW_MODEL or not NEW_MODEL_REPO:\n",
        "    raise RuntimeError(\"New model env variables not set\")"
      ]
    },
    {
      "cell_type": "code",
      "execution_count": null,
      "metadata": {
        "id": "QfKUh9V-pzQE"
      },
      "outputs": [],
      "source": [
        "quantization_config = BitsAndBytesConfig(\n",
        "    load_in_4bit=True, bnb_4bit_quant_type=\"nf4\", bnb_4bit_compute_dtype=torch.float16\n",
        ")"
      ]
    },
    {
      "cell_type": "code",
      "execution_count": null,
      "metadata": {
        "id": "F0KVCb7wDhIv"
      },
      "outputs": [],
      "source": [
        "tokenizer = AutoTokenizer.from_pretrained(MODEL_NAME)\n",
        "tokenizer.add_special_tokens({\"pad_token\": PAD_TOKEN})\n",
        "tokenizer.padding_side = \"right\"\n",
        "\n",
        "model = AutoModelForCausalLM.from_pretrained(MODEL_NAME, quantization_config=quantization_config, device_map=\"auto\")\n",
        "model.resize_token_embeddings(len(tokenizer), pad_to_multiple_of=8)"
      ]
    },
    {
      "cell_type": "code",
      "execution_count": null,
      "metadata": {
        "id": "JOiZd8LH58Ma"
      },
      "outputs": [],
      "source": [
        "tokenizer.convert_tokens_to_ids(PAD_TOKEN)"
      ]
    },
    {
      "cell_type": "code",
      "execution_count": null,
      "metadata": {
        "id": "3OyTMlNP4env"
      },
      "outputs": [],
      "source": [
        "dataset = load_dataset(\"json\", data_files=\"data.json\", split=\"all\")\n",
        "dataset"
      ]
    },
    {
      "cell_type": "markdown",
      "metadata": {
        "id": "E08f7yEa7wAQ"
      },
      "source": [
        "Test Original Model"
      ]
    },
    {
      "cell_type": "code",
      "execution_count": null,
      "metadata": {
        "id": "MKXn3ueM2OE6"
      },
      "outputs": [],
      "source": [
        "def format_chat_template(row):\n",
        "  row_json = [\n",
        "      {\"role\": \"user\", \"content\": row[\"input\"]},\n",
        "      {\"role\": \"assistant\", \"content\": row[\"output\"]}\n",
        "  ]\n",
        "\n",
        "  row[\"text\"] = tokenizer.apply_chat_template(row_json, tokenize=False)\n",
        "  return row"
      ]
    },
    {
      "cell_type": "code",
      "execution_count": null,
      "metadata": {
        "id": "OQUHFyYK5bq5"
      },
      "outputs": [],
      "source": [
        "dataset = dataset.map(\n",
        "    format_chat_template,\n",
        "    num_proc=4\n",
        ")"
      ]
    },
    {
      "cell_type": "code",
      "execution_count": null,
      "metadata": {
        "id": "N04wJl6vdk3h"
      },
      "outputs": [],
      "source": [
        "dataset = dataset.train_test_split(test_size=0.1)"
      ]
    },
    {
      "cell_type": "code",
      "execution_count": null,
      "metadata": {
        "id": "EimRvGcZJIvO"
      },
      "outputs": [],
      "source": [
        "lora_config = LoraConfig(\n",
        "    r=32,\n",
        "    lora_alpha=16,\n",
        "    target_modules=['up_proj', 'down_proj', 'gate_proj', 'k_proj', 'q_proj', 'v_proj', 'o_proj'],\n",
        "    lora_dropout=0.05,\n",
        "    bias=\"none\",\n",
        "    task_type=\"CAUSAL_LM\"\n",
        ")\n",
        "\n",
        "model = get_peft_model(model, lora_config)"
      ]
    },
    {
      "cell_type": "code",
      "execution_count": null,
      "metadata": {
        "id": "b22jOZPhzna6"
      },
      "outputs": [],
      "source": [
        "sft_config = SFTConfig(\n",
        "    max_seq_length=512,\n",
        "    per_device_train_batch_size=1,\n",
        "    gradient_accumulation_steps=4,\n",
        "    num_train_epochs=10,\n",
        "    learning_rate=5e-5,\n",
        "    output_dir=f\"./{NEW_MODEL}-output\",\n",
        "    eval_strategy=\"steps\",\n",
        "    eval_steps=10,\n",
        "    save_steps=20,\n",
        "    save_total_limit=2,\n",
        "    logging_steps=1,\n",
        "    bf16=False,\n",
        "    fp16=True,\n",
        "    report_to=\"none\",\n",
        "    seed=SEED,\n",
        "    dataset_text_field=\"text\"\n",
        ")"
      ]
    },
    {
      "cell_type": "code",
      "execution_count": null,
      "metadata": {
        "id": "-xJ4xKBkJNgK"
      },
      "outputs": [],
      "source": [
        "trainer = SFTTrainer(\n",
        "  model=model,\n",
        "  processing_class=tokenizer,\n",
        "  train_dataset=dataset[\"train\"],\n",
        "  eval_dataset=dataset[\"test\"],\n",
        "  args=sft_config,\n",
        ")"
      ]
    },
    {
      "cell_type": "code",
      "execution_count": null,
      "metadata": {
        "id": "M5IUzQiZoDDv"
      },
      "outputs": [],
      "source": [
        "trainer.train()"
      ]
    },
    {
      "cell_type": "code",
      "execution_count": null,
      "metadata": {
        "id": "q0nrEjXftepc"
      },
      "outputs": [],
      "source": [
        "trainer.save_model(NEW_MODEL)\n",
        "tokenizer.save_pretrained(NEW_MODEL)\n",
        "trainer.model.push_to_hub(NEW_MODEL_REPO)\n",
        "trainer.processing_class.push_to_hub(NEW_MODEL_REPO)"
      ]
    }
  ],
  "metadata": {
    "accelerator": "GPU",
    "colab": {
      "gpuType": "T4",
      "provenance": []
    },
    "kernelspec": {
      "display_name": "env",
      "language": "python",
      "name": "python3"
    },
    "language_info": {
      "codemirror_mode": {
        "name": "ipython",
        "version": 3
      },
      "file_extension": ".py",
      "mimetype": "text/x-python",
      "name": "python",
      "nbconvert_exporter": "python",
      "pygments_lexer": "ipython3",
      "version": "3.9.6"
    }
  },
  "nbformat": 4,
  "nbformat_minor": 0
}
